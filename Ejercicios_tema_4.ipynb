{
  "nbformat": 4,
  "nbformat_minor": 0,
  "metadata": {
    "colab": {
      "provenance": []
    },
    "kernelspec": {
      "name": "python3",
      "display_name": "Python 3"
    },
    "language_info": {
      "name": "python"
    }
  },
  "cells": [
    {
      "cell_type": "markdown",
      "source": [
        "# Ejercicios tema 4  -- Enunciado del ejercicio:\n",
        "\n",
        "En este ejercicio practicarás las estructuras de control, para ello deberás crear:\n",
        "\n",
        "Usando un if, crear una condición que compare si la variable numero If es positivo, negativo, o 0.\n",
        "Pista: Los números inferiores a 0 son negativos y los superiores, positivos.\n",
        "\n",
        "Crea un bucle While, este bucle tendrá que tener como condición que la variable numeroWhile sea inferior a 3, el bloque de código que tendrá el bucle deberá:\n",
        "\n",
        "Incrementar el valor de la variable en uno cada vez que se ejecute.\n",
        "\n",
        "Mostrarlo por pantalla cada vez que se ejecute.\n",
        "\n",
        "Para el bucle Do While, deberás crear la misma estructura que en el While, pero solo se debe ejecutar una vez.\n",
        "\n",
        "Para el bucle For, crea una variable numeroFor, esta variable tendrá como valor 0 y su condición será que la variable sea igual o menor que 3, se irá incrementando en 1 su valor cada vez que se ejecute y deberá mostrarse por pantalla.\n",
        "\n",
        "Por último, para el Switch, deberás crear la variable estacion, y distintos case para las cuatro estaciones del año. Dependiendo del valor de la variable estacion se deberá mandar un mensaje por consola informando de la estación en la que está. También habrá que poner un default para cuando el valor de la variable no sea una estación.\n",
        "\n"
      ],
      "metadata": {
        "id": "TTjcH_oxoUB1"
      }
    },
    {
      "cell_type": "code",
      "source": [
        "## Usando If\n",
        "num=int(input(\"Ingrese el numero: \",))\n",
        "if num >=1:\n",
        "  print(\"El número es positivo\")\n",
        "elif num <=-1:\n",
        "  print(\"El número es negativo\")\n",
        "else:\n",
        "  num == 0\n",
        "  print(\"El número es: 0\", \"cero\")"
      ],
      "metadata": {
        "colab": {
          "base_uri": "https://localhost:8080/"
        },
        "id": "dxYY7D3Podlu",
        "outputId": "8d48da7b-ad17-4ed9-8d4b-52703d962493"
      },
      "execution_count": 10,
      "outputs": [
        {
          "output_type": "stream",
          "name": "stdout",
          "text": [
            "Ingrese el numero: -12\n",
            "El número es negativo\n"
          ]
        }
      ]
    },
    {
      "cell_type": "code",
      "source": [
        "## Usando While\n",
        "numeroWhile=0\n",
        "while numeroWhile <=3:\n",
        "  numeroWhile +=1\n",
        "  print(\"El número es: \",numeroWhile) "
      ],
      "metadata": {
        "colab": {
          "base_uri": "https://localhost:8080/"
        },
        "id": "I0qVcDFrrbar",
        "outputId": "4a5ea24f-10c4-47c6-806e-48c1afb84ef5"
      },
      "execution_count": 12,
      "outputs": [
        {
          "output_type": "stream",
          "name": "stdout",
          "text": [
            "El núemro es:  1\n",
            "El núemro es:  2\n",
            "El núemro es:  3\n",
            "El núemro es:  4\n"
          ]
        }
      ]
    },
    {
      "cell_type": "code",
      "source": [
        "## Usando For\n",
        "numeroFor=0\n",
        "for numeroFor in range(20):\n",
        "  if numeroFor <=3:\n",
        "    numeroFor +=1\n",
        "    print(\"El número es: \", numeroFor)\n"
      ],
      "metadata": {
        "colab": {
          "base_uri": "https://localhost:8080/"
        },
        "id": "9VesGD8ztRL-",
        "outputId": "d6313eab-82be-4be9-eec0-90c5239328b7"
      },
      "execution_count": 22,
      "outputs": [
        {
          "output_type": "stream",
          "name": "stdout",
          "text": [
            "El número es:  1\n",
            "El número es:  2\n",
            "El número es:  3\n",
            "El número es:  4\n"
          ]
        }
      ]
    },
    {
      "cell_type": "code",
      "source": [
        "## Remplazando Switch por if, elif, else\n",
        "num=int(input(\"Ingrese el la calificación: \",))\n",
        "if num >=17 and num<=20:\n",
        "  print(\"La calificación para el alumno sobresaliente\")\n",
        "elif num >=11 and num<17:\n",
        "  print(\"La calificación para el alumno es aprobado\")\n",
        "else:\n",
        "  num < 11\n",
        "  print(\"La calificación para el alumno es reprobado\")"
      ],
      "metadata": {
        "colab": {
          "base_uri": "https://localhost:8080/"
        },
        "id": "wVHym1GRv5D_",
        "outputId": "a9b27d93-01af-412b-ae6d-05c49244a803"
      },
      "execution_count": 23,
      "outputs": [
        {
          "output_type": "stream",
          "name": "stdout",
          "text": [
            "Ingrese el la calificación: 9\n",
            "La calificación para el alumno es reprobado\n"
          ]
        }
      ]
    }
  ]
}